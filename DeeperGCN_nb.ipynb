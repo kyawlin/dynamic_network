{
 "cells": [
  {
   "cell_type": "code",
   "execution_count": 1,
   "metadata": {},
   "outputs": [
    {
     "name": "stderr",
     "output_type": "stream",
     "text": [
      "Using backend: pytorch\n"
     ]
    }
   ],
   "source": [
    "import torch\n",
    "from tqdm import tqdm\n",
    "import torch.nn.functional as F\n",
    "from torch.nn.parameter import Parameter\n",
    "from torch.nn import Linear, LayerNorm, ReLU,Sequential, Dropout\n",
    "from torch.nn import init\n",
    "import torch.nn as nn\n",
    "from dgl import DGLGraph\n",
    "from dgl.data import citation_graph as citegrh"
   ]
  },
  {
   "cell_type": "code",
   "execution_count": 2,
   "metadata": {},
   "outputs": [],
   "source": [
    "from models import DeeperGCN"
   ]
  },
  {
   "cell_type": "code",
   "execution_count": 3,
   "metadata": {},
   "outputs": [
    {
     "name": "stdout",
     "output_type": "stream",
     "text": [
      "Finished data loading and preprocessing.\n",
      "  NumNodes: 2708\n",
      "  NumEdges: 10556\n",
      "  NumFeats: 1433\n",
      "  NumClasses: 7\n",
      "  NumTrainingSamples: 140\n",
      "  NumValidationSamples: 500\n",
      "  NumTestSamples: 1000\n"
     ]
    }
   ],
   "source": [
    "def load_cora_data():\n",
    "    data = citegrh.load_cora()\n",
    "    features = torch.FloatTensor(data.features)\n",
    "    labels = torch.LongTensor(data.labels)\n",
    "    train_mask = torch.BoolTensor(data.train_mask)\n",
    "    test_mask = torch.BoolTensor(data.test_mask)\n",
    "    g = DGLGraph(data.graph)\n",
    "    return g, features, labels, train_mask, test_mask\n",
    "g, features, labels, train_mask, test_mask = load_cora_data()\n",
    "g.ndata['h']=features"
   ]
  },
  {
   "cell_type": "code",
   "execution_count": 4,
   "metadata": {},
   "outputs": [
    {
     "data": {
      "text/plain": [
       "DeeperGCN(\n",
       "  (node_enc): Linear(in_features=1433, out_features=8, bias=True)\n",
       "  (layers): ModuleList(\n",
       "    (0): DeepGCNLayer(\n",
       "      (conv): GENConv(\n",
       "        (mlp): MLP(\n",
       "          (0): Linear(in_features=8, out_features=16, bias=True)\n",
       "          (1): LayerNorm()\n",
       "          (2): ReLU()\n",
       "          (3): Dropout(p=0, inplace=False)\n",
       "          (4): Linear(in_features=16, out_features=8, bias=True)\n",
       "        )\n",
       "      )\n",
       "      (norm): LayerNorm()\n",
       "      (activation): ReLU(inplace=True)\n",
       "    )\n",
       "    (1): DeepGCNLayer(\n",
       "      (conv): GENConv(\n",
       "        (mlp): MLP(\n",
       "          (0): Linear(in_features=8, out_features=16, bias=True)\n",
       "          (1): LayerNorm()\n",
       "          (2): ReLU()\n",
       "          (3): Dropout(p=0, inplace=False)\n",
       "          (4): Linear(in_features=16, out_features=8, bias=True)\n",
       "        )\n",
       "      )\n",
       "      (norm): LayerNorm()\n",
       "      (activation): ReLU(inplace=True)\n",
       "    )\n",
       "    (2): DeepGCNLayer(\n",
       "      (conv): GENConv(\n",
       "        (mlp): MLP(\n",
       "          (0): Linear(in_features=8, out_features=16, bias=True)\n",
       "          (1): LayerNorm()\n",
       "          (2): ReLU()\n",
       "          (3): Dropout(p=0, inplace=False)\n",
       "          (4): Linear(in_features=16, out_features=8, bias=True)\n",
       "        )\n",
       "      )\n",
       "      (norm): LayerNorm()\n",
       "      (activation): ReLU(inplace=True)\n",
       "    )\n",
       "    (3): DeepGCNLayer(\n",
       "      (conv): GENConv(\n",
       "        (mlp): MLP(\n",
       "          (0): Linear(in_features=8, out_features=16, bias=True)\n",
       "          (1): LayerNorm()\n",
       "          (2): ReLU()\n",
       "          (3): Dropout(p=0, inplace=False)\n",
       "          (4): Linear(in_features=16, out_features=8, bias=True)\n",
       "        )\n",
       "      )\n",
       "      (norm): LayerNorm()\n",
       "      (activation): ReLU(inplace=True)\n",
       "    )\n",
       "  )\n",
       "  (lin): Linear(in_features=8, out_features=7, bias=True)\n",
       ")"
      ]
     },
     "execution_count": 4,
     "metadata": {},
     "output_type": "execute_result"
    }
   ],
   "source": [
    "model = DeeperGCN(g,hidden_features=8,out_features=7, num_layers=4)\n",
    "model"
   ]
  },
  {
   "cell_type": "code",
   "execution_count": null,
   "metadata": {},
   "outputs": [],
   "source": []
  }
 ],
 "metadata": {
  "kernelspec": {
   "display_name": "Python 3",
   "language": "python",
   "name": "python3"
  },
  "language_info": {
   "codemirror_mode": {
    "name": "ipython",
    "version": 3
   },
   "file_extension": ".py",
   "mimetype": "text/x-python",
   "name": "python",
   "nbconvert_exporter": "python",
   "pygments_lexer": "ipython3",
   "version": "3.7.7"
  }
 },
 "nbformat": 4,
 "nbformat_minor": 4
}
